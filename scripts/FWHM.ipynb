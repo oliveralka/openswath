{
 "cells": [
  {
   "cell_type": "markdown",
   "metadata": {},
   "source": [
    "Script for extracting features with annotation (identification) and get the FWHM"
   ]
  },
  {
   "cell_type": "code",
   "execution_count": 1,
   "metadata": {},
   "outputs": [
    {
     "name": "stderr",
     "output_type": "stream",
     "text": [
      "Determination of memory status is not supported on this \n",
      " platform, measuring for memoryleaks will never fail\n"
     ]
    }
   ],
   "source": [
    "# packages\n",
    "import os\n",
    "import numpy as np\n",
    "from pyopenms import *"
   ]
  },
  {
   "cell_type": "code",
   "execution_count": 2,
   "metadata": {
    "scrolled": true
   },
   "outputs": [],
   "source": [
    "# AccurateMassSearch featureXML\n",
    "# .featurexml is used (without capital letters!!)\n",
    "\n",
    "# positive\n",
    "#fxmlpath = \"/Volumes/Transfer/OpenSWATH/20181202_analysis/KNIME/pos/k_AMS/\"\n",
    "\n",
    "# negative\n",
    "fxmlpath = \"/Volumes/Transfer/OpenSWATH/20181202_analysis/KNIME/neg/k_AMS/\""
   ]
  },
  {
   "cell_type": "code",
   "execution_count": 3,
   "metadata": {},
   "outputs": [
    {
     "name": "stdout",
     "output_type": "stream",
     "text": [
      "PestMix2neg_con.featurexml\n",
      "/Volumes/Transfer/OpenSWATH/20181202_analysis/KNIME/neg/k_AMS/PestMix2neg_con.featurexml\n",
      "PestMix3neg_con.featurexml\n",
      "/Volumes/Transfer/OpenSWATH/20181202_analysis/KNIME/neg/k_AMS/PestMix3neg_con.featurexml\n",
      "PestMix4neg_con.featurexml\n",
      "/Volumes/Transfer/OpenSWATH/20181202_analysis/KNIME/neg/k_AMS/PestMix4neg_con.featurexml\n",
      "PestMix5neg_con.featurexml\n",
      "/Volumes/Transfer/OpenSWATH/20181202_analysis/KNIME/neg/k_AMS/PestMix5neg_con.featurexml\n",
      "PestMix6neg_con.featurexml\n",
      "/Volumes/Transfer/OpenSWATH/20181202_analysis/KNIME/neg/k_AMS/PestMix6neg_con.featurexml\n",
      "PestMix7neg_con.featurexml\n",
      "/Volumes/Transfer/OpenSWATH/20181202_analysis/KNIME/neg/k_AMS/PestMix7neg_con.featurexml\n",
      "PestMix8neg_con.featurexml\n",
      "/Volumes/Transfer/OpenSWATH/20181202_analysis/KNIME/neg/k_AMS/PestMix8neg_con.featurexml\n",
      "PestMix1neg_con.featurexml\n",
      "/Volumes/Transfer/OpenSWATH/20181202_analysis/KNIME/neg/k_AMS/PestMix1neg_con.featurexml\n"
     ]
    }
   ],
   "source": [
    "# list for storage of fwhm\n",
    "fwhm_id = []\n",
    "fwhm_all = []\n",
    "\n",
    "# get all featureXML and path \n",
    "for file in os.listdir(fxmlpath):\n",
    "    if file.endswith(\".featurexml\"):\n",
    "        filepath = os.path.join(fxmlpath, file)\n",
    "        print file\n",
    "        print filepath\n",
    "\n",
    "        # import featureXML\n",
    "        fm = FeatureMap()\n",
    "        FeatureXMLFile().load(filepath, fm)\n",
    "    \n",
    "        # get fwhm_id (fwhm of metabolites with identification)\n",
    "        # get fhmw_all\n",
    "        for feature in fm:\n",
    "          if len(feature.getPeptideIdentifications()) != 0:\n",
    "              des = feature.getPeptideIdentifications()[0].getHits()[0].getMetaValue(\"description\")\n",
    "              fwhm_d = feature.getMetaValue(\"FWHM\")\n",
    "              fwhm_id.append(fwhm_d)\n",
    "          fwhm_a = feature.getMetaValue(\"FWHM\")\n",
    "          fwhm_all.append(fwhm_a)"
   ]
  },
  {
   "cell_type": "code",
   "execution_count": 4,
   "metadata": {},
   "outputs": [
    {
     "name": "stdout",
     "output_type": "stream",
     "text": [
      "('fwhm_des:', 3.193446159362793, 15.367573738098145, 5.695591882783539)\n",
      "('fwhm_all:', 3.0015037059783936, 29.48200035095215, 9.529482603935394)\n"
     ]
    }
   ],
   "source": [
    "# calculate statistics min/max/mean\n",
    "print (\"fwhm_des:\", np.min(fwhm_id), np.max(fwhm_id), np.mean(fwhm_id))\n",
    "print (\"fwhm_all:\", np.min(fwhm_all), np.max(fwhm_all), np.mean(fwhm_all))\n"
   ]
  },
  {
   "cell_type": "code",
   "execution_count": null,
   "metadata": {},
   "outputs": [],
   "source": []
  }
 ],
 "metadata": {
  "kernelspec": {
   "display_name": "Python 2",
   "language": "python",
   "name": "python2"
  },
  "language_info": {
   "codemirror_mode": {
    "name": "ipython",
    "version": 2
   },
   "file_extension": ".py",
   "mimetype": "text/x-python",
   "name": "python",
   "nbconvert_exporter": "python",
   "pygments_lexer": "ipython2",
   "version": "2.7.15"
  }
 },
 "nbformat": 4,
 "nbformat_minor": 2
}
